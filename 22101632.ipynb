{
  "nbformat": 4,
  "nbformat_minor": 0,
  "metadata": {
    "colab": {
      "provenance": [],
      "collapsed_sections": []
    },
    "kernelspec": {
      "name": "python3",
      "display_name": "Python 3"
    },
    "language_info": {
      "name": "python"
    }
  },
  "cells": [
    {
      "cell_type": "code",
      "source": [
        "from datetime import datetime\n",
        "print(datetime.now())"
      ],
      "metadata": {
        "id": "RkoRNKDOWvM5",
        "colab": {
          "base_uri": "https://localhost:8080/"
        },
        "outputId": "66fe1722-ef82-40d6-d921-96c7deee6639"
      },
      "execution_count": 622,
      "outputs": [
        {
          "output_type": "stream",
          "name": "stdout",
          "text": [
            "2022-09-03 03:10:40.150056\n"
          ]
        }
      ]
    },
    {
      "cell_type": "code",
      "source": [
        "def value(obj):\n",
        "  return obj.value()\n",
        "\n",
        "def print_values(*args):\n",
        "  for i in args:\n",
        "    print(f'{i.value():.2f}', end = ', ')\n",
        "  print()"
      ],
      "metadata": {
        "id": "EqeRHanIWs-o"
      },
      "execution_count": 623,
      "outputs": []
    },
    {
      "cell_type": "code",
      "source": [
        "class Vector:\n",
        "  # class variables\n",
        "  nullx=0.0\n",
        "  nully=0.0\n",
        "  nullz=0.0\n",
        "  vectorlist=[]\n",
        "\n",
        "  def __init__(self,x,y,z=0.0):\n",
        "    self.x = float(x)\n",
        "    self.y = float(y)\n",
        "    self.z = float(z)\n",
        "    Vector.vectorlist.append(self)\n",
        "  \n",
        "  def is_null(self):\n",
        "    if self.x == 0 and self.y == 0 and self.z == 0:\n",
        "      return True\n",
        "  \n",
        "  def __str__(self):\n",
        "    return f'({self.x},{self.y},{self.z})'\n",
        "  \n",
        "  def __add__(v1,v2):\n",
        "    return Vector(v1.x+v2.x, v1.y+v2.y, v1.z+v2.z)\n",
        "  def __neg__(v1):\n",
        "    return Vector(-v1.x, -v1.y, -v1.z)\n",
        "  def __sub__(v1,v2):\n",
        "    return Vector(v1.x-v2.x, v1.y-v2.y, v1.z-v2.z)\n",
        "  def __mul__(v1,v2):\n",
        "    x= (v1.y*v2.z)-(v1.z*v2.y)\n",
        "    y= -(v1.x*v2.z)+(v1.z*v2.x)\n",
        "    z= (v1.x*v2.y)-(v1.y*v2.x)\n",
        "    return Vector(x,y,z)\n",
        " \n",
        "\n",
        "  @staticmethod\n",
        "  def get_null():\n",
        "    return f'({Vector.nullx},{Vector.nully},{Vector.nullz})'\n",
        "  \n",
        "  def from_another_vector(self,a):\n",
        "    x = self.x + a\n",
        "    y = self.y + a\n",
        "    z = self.z + a\n",
        "    return Vector(x,y,z)\n",
        "  \n",
        "  def value(self):\n",
        "    return self.magnitude()\n",
        "  \n",
        "  def magnitude(self):\n",
        "    magnitude=((self.x)**2+(self.y)**2+(self.z)**2)**.5\n",
        "    return float(magnitude)\n",
        "  \n",
        "  def get_str(self):\n",
        "    return f'({self.x},{self.y},{self.z})'\n",
        "\n",
        "  @staticmethod\n",
        "  def dot(v1, v2):\n",
        "    result= v1.x*v2.x + v1.y*v2.y + v1.z*v2.z\n",
        "    return float(result)\n",
        "    pass\n",
        "  \n",
        "  @staticmethod\n",
        "  def angle(v1, v2):\n",
        "    import math\n",
        "    return math.acos(Vector.dot(v1,v2) / (v1.magnitude() * v2.magnitude())) * 180 / math.pi\n",
        "\n",
        "  @staticmethod\n",
        "  def stats():\n",
        "    print(f'{len(Vector.vectorlist)} vectors created so far: [')\n",
        "    for v in Vector.vectorlist:\n",
        "      print(str(v))\n",
        "    print(']')\n"
      ],
      "metadata": {
        "id": "G3Eh_CRTWY5W"
      },
      "execution_count": 624,
      "outputs": []
    },
    {
      "cell_type": "code",
      "source": [
        "v1 = Vector(4,3,-5)\n",
        "v2 = v1.from_another_vector(-1)\n",
        "print(v2)\n",
        "v3 = -v2 - v1\n",
        "print(v3)\n",
        "v4 = v2 + Vector(2,1)\n",
        "print(v4)\n",
        "v5 = v1 * v4 # vector cross product \n",
        "print(v5)\n",
        "print(datetime.now())\n"
      ],
      "metadata": {
        "colab": {
          "base_uri": "https://localhost:8080/"
        },
        "id": "bTPLla3DU2uq",
        "outputId": "e521ede7-7bf5-443e-f61e-f7c57e299d9f"
      },
      "execution_count": 625,
      "outputs": [
        {
          "output_type": "stream",
          "name": "stdout",
          "text": [
            "(3.0,2.0,-6.0)\n",
            "(-7.0,-5.0,11.0)\n",
            "(5.0,3.0,-6.0)\n",
            "(-3.0,-1.0,-3.0)\n",
            "2022-09-03 03:10:40.204869\n"
          ]
        }
      ]
    },
    {
      "cell_type": "code",
      "source": [
        "v6 = v4 - v4\n",
        "print(v6.is_null())\n",
        "print(datetime.now())\n"
      ],
      "metadata": {
        "colab": {
          "base_uri": "https://localhost:8080/"
        },
        "id": "iNZqj0puU6O_",
        "outputId": "c08d8762-6046-490f-eaa8-1b1f5b609697"
      },
      "execution_count": 626,
      "outputs": [
        {
          "output_type": "stream",
          "name": "stdout",
          "text": [
            "True\n",
            "2022-09-03 03:10:40.218902\n"
          ]
        }
      ]
    },
    {
      "cell_type": "code",
      "source": [
        "vs1 = [v1,v2,v3,v4,v5,v6]\n",
        "print_values(*vs1)\n",
        "vs2 = sorted(vs1,key=value)\n",
        "print_values(*vs2)\n",
        "print(datetime.now())\n"
      ],
      "metadata": {
        "colab": {
          "base_uri": "https://localhost:8080/"
        },
        "id": "7NGtKJabU8LN",
        "outputId": "3bc3a1ce-0971-4fcb-cab2-75a25e693812"
      },
      "execution_count": 627,
      "outputs": [
        {
          "output_type": "stream",
          "name": "stdout",
          "text": [
            "7.07, 7.00, 13.96, 8.37, 4.36, 0.00, \n",
            "0.00, 4.36, 7.00, 7.07, 8.37, 13.96, \n",
            "2022-09-03 03:10:40.237901\n"
          ]
        }
      ]
    },
    {
      "cell_type": "code",
      "source": [
        "print(Vector.dot(v1,v2))\n",
        "print(datetime.now())\n"
      ],
      "metadata": {
        "colab": {
          "base_uri": "https://localhost:8080/"
        },
        "id": "ZAlOsS6gU-mI",
        "outputId": "f81f0212-80fd-4866-c3be-963519bc0ace"
      },
      "execution_count": 628,
      "outputs": [
        {
          "output_type": "stream",
          "name": "stdout",
          "text": [
            "48.0\n",
            "2022-09-03 03:10:40.244242\n"
          ]
        }
      ]
    },
    {
      "cell_type": "code",
      "source": [
        "class Shape:\n",
        "  shapelistt= []\n",
        "\n",
        "  def __init__(self, *args):\n",
        "    self.__side_vectors=[]\n",
        "    for o in args:\n",
        "      self.__side_vectors.append(o)\n",
        "\n",
        "\n",
        "  \n",
        "  def __str__(self): \n",
        "    res = '['\n",
        "    for v in self.get_sides():\n",
        "      res += str(v) + '\\n'\n",
        "    return res[:-1] + ']'\n",
        "  \n",
        "  def len(self): return None\n",
        "  def angle(self): return None\n",
        "  def area(self): return None\n",
        "  def value(self): pass\n",
        "  \n",
        "  def insert(self, typ):\n",
        "    if typ not in Shape.__map: Shape.__map[typ] = []\n",
        "    Shape.__map[typ].append(self)\n",
        "  \n",
        "  def get_sides(self):\n",
        "    return self.__side_vectors\n",
        "  \n",
        "  @classmethod\n",
        "  def get_shapes(cls, typ):\n",
        "    return Shape.__map[typ]\n",
        "  \n",
        "  @staticmethod\n",
        "  def sort(*args):\n",
        "    return sorted(args, key=value)\n",
        "\n",
        "  @staticmethod\n",
        "  def stats():\n",
        "    print(f'{len(Shape.shapelistt)} type of shapes created so far: {Shape.shapelistt}')\n",
        "    "
      ],
      "metadata": {
        "id": "NaZ1sm0pWfPF"
      },
      "execution_count": 629,
      "outputs": []
    },
    {
      "cell_type": "code",
      "source": [
        "class Line(Shape):\n",
        "  linevectors= []\n",
        "  def __init__(self, obj):\n",
        "    Line.linevectors.append(self)\n",
        "    super().__init__(obj)\n",
        "    if \"Line\" not in Shape.shapelistt:\n",
        "      Shape.shapelistt.append(\"Line\")\n",
        "    \n",
        "\n",
        "  def __str__(self):\n",
        "    res = 'Lines with side vector:\\n'\n",
        "    return f'{res}{super().__str__()}'\n",
        "  \n",
        "  def value(self):\n",
        "    return self.len()\n",
        "    \n",
        "  def magnitude(self):\n",
        "    magnitude=((self.x)**2+(self.y)**2+(self.z)**2)**.5\n",
        "    return float(magnitude)\n",
        "  \n",
        "  def len(self):\n",
        "    return self.get_sides()[0].magnitude()\n",
        "\n",
        "  @staticmethod\n",
        "  def stats():\n",
        "    print(f\"{len(Line.linevectors)} lines created so far: [\")\n",
        "    for i in Line.linevectors:\n",
        "      print(str(i))\n",
        "    print(\"]\")\n",
        "    "
      ],
      "metadata": {
        "id": "i3-prHKLWkXr"
      },
      "execution_count": 630,
      "outputs": []
    },
    {
      "cell_type": "code",
      "source": [
        "l1 = Line(v5)\n",
        "print(l1)\n",
        "l2 = Line(v4)\n",
        "print(l2)\n",
        "l3 = Line(Vector(-2,1,5))\n",
        "print(datetime.now())\n"
      ],
      "metadata": {
        "colab": {
          "base_uri": "https://localhost:8080/"
        },
        "id": "kqKz8bsNVDD_",
        "outputId": "77b6ea53-d1cb-4be2-b587-accfb1a8a5e1"
      },
      "execution_count": 631,
      "outputs": [
        {
          "output_type": "stream",
          "name": "stdout",
          "text": [
            "Lines with side vector:\n",
            "[(-3.0,-1.0,-3.0)]\n",
            "Lines with side vector:\n",
            "[(5.0,3.0,-6.0)]\n",
            "2022-09-03 03:10:40.286527\n"
          ]
        }
      ]
    },
    {
      "cell_type": "code",
      "source": [
        "ls1 = [l1,l2,l3]\n",
        "print_values(*ls1)\n",
        "ls2 = sorted(ls1,key=value)\n",
        "print_values(*ls2)\n",
        "print(datetime.now())\n"
      ],
      "metadata": {
        "colab": {
          "base_uri": "https://localhost:8080/"
        },
        "id": "V65YBoEwVFNQ",
        "outputId": "19526eb7-2e6d-41ad-c8cd-d3e11954a417"
      },
      "execution_count": 632,
      "outputs": [
        {
          "output_type": "stream",
          "name": "stdout",
          "text": [
            "4.36, 8.37, 5.48, \n",
            "4.36, 5.48, 8.37, \n",
            "2022-09-03 03:10:40.297135\n"
          ]
        }
      ]
    },
    {
      "cell_type": "code",
      "source": [
        "class Angle(Shape):\n",
        "  anglevectors=[]\n",
        "  def __init__(self, *args):\n",
        "    super().__init__(args[0], args[1])\n",
        "    self.obj1= args[0]\n",
        "    self.obj2= args[1]\n",
        "    if \"Angle\" not in Shape.shapelistt:\n",
        "      Shape.shapelistt.append(\"Angle\")\n",
        "    Angle.anglevectors.append(self)\n",
        "\n",
        "  \n",
        "  def __str__(self):\n",
        "    return f\"Angle with side vectors\\n{super().__str__()}\"\n",
        "\n",
        "  \n",
        "  def value(self):\n",
        "    return self.angle()\n",
        "  def get_sides(self):\n",
        "    return super().get_sides()\n",
        "\n",
        "  \n",
        "  def angle(self):\n",
        "    import math\n",
        "    a = self.get_sides()[0]\n",
        "    b = self.get_sides()[1]\n",
        "    return math.acos(Vector.dot(a,b) / (a.magnitude() * b.magnitude())) * 180 / math.pi\n",
        "  \n",
        "  @staticmethod\n",
        "  def stats():\n",
        "\n",
        "    print(f\"{len(Angle.anglevectors)} angles created so far: [\")\n",
        "    for i in Angle.anglevectors:\n",
        "      print(str(i))\n",
        "    print(\"]\")\n",
        "      "
      ],
      "metadata": {
        "id": "fC91R7OPWm1e"
      },
      "execution_count": 633,
      "outputs": []
    },
    {
      "cell_type": "code",
      "source": [
        "a1 = Angle(v1,v2)\n",
        "print(a1)\n",
        "print(f'{a1.angle():.2f}')\n",
        "a2 = Angle(v3,v2)\n",
        "print(a2)\n",
        "print(f'{a2.angle():.2f}')\n",
        "a3 = Angle(v4,v5)\n",
        "print(datetime.now())\n"
      ],
      "metadata": {
        "colab": {
          "base_uri": "https://localhost:8080/"
        },
        "id": "m9xvtF1uVG01",
        "outputId": "b8c65f6b-b31b-43a6-d026-135af63c9286"
      },
      "execution_count": 634,
      "outputs": [
        {
          "output_type": "stream",
          "name": "stdout",
          "text": [
            "Angle with side vectors\n",
            "[(4.0,3.0,-5.0)\n",
            "(3.0,2.0,-6.0)]\n",
            "14.13\n",
            "Angle with side vectors\n",
            "[(-7.0,-5.0,11.0)\n",
            "(3.0,2.0,-6.0)]\n",
            "172.90\n",
            "2022-09-03 03:10:40.323216\n"
          ]
        }
      ]
    },
    {
      "cell_type": "code",
      "source": [
        "as1 = [a1,a2,a3]\n",
        "print_values(*as1)\n",
        "as2 = sorted(as1,key=value)\n",
        "print_values(*as2)\n",
        "print(datetime.now())\n"
      ],
      "metadata": {
        "colab": {
          "base_uri": "https://localhost:8080/"
        },
        "id": "K0MPp69JVKlq",
        "outputId": "14d0b02f-2e88-44f3-936a-9e3b6ad6241b"
      },
      "execution_count": 635,
      "outputs": [
        {
          "output_type": "stream",
          "name": "stdout",
          "text": [
            "14.13, 172.90, 90.00, \n",
            "14.13, 90.00, 172.90, \n",
            "2022-09-03 03:10:40.339479\n"
          ]
        }
      ]
    },
    {
      "cell_type": "code",
      "execution_count": 636,
      "metadata": {
        "id": "drYxVi-hUl-O"
      },
      "outputs": [],
      "source": [
        "import math\n",
        "class Triangle(Shape):\n",
        "  trianglevectors=[]\n",
        "  def __init__(self, *args):\n",
        "    super().__init__(args[0], args[1], args[2])\n",
        "    l1= args[0].value()\n",
        "    l2= args[1].value()\n",
        "    l3= args[2].value()\n",
        "    cosa1=(l2**2+l3**2-l1**2)/(2*l2*l3)\n",
        "    cosa2=(l1**2+l3**2-l2**2)/(2*l1*l3)\n",
        "    cosa3=(l1**2+l2**2-l3**2)/(2*l1*l2)\n",
        "    a1= math.degrees(math.acos(cosa1))        \n",
        "    a2=  math.degrees(math.acos(cosa2))\n",
        "    a3=  math.degrees(math.acos(cosa3)) \n",
        "    self.__side_lengths= (l1,l2,l3)\n",
        "    self.__angles= (a1,a2,a3)\n",
        "    p=0\n",
        "    for i in self.__side_lengths:\n",
        "      p+=float(i)\n",
        "      s=p/2\n",
        "    self.__area= (s*(s-l1)*(s-l2)*(s-l3))**.5\n",
        "    if l1+l2>l3 or l1+l3>l2 or l2+l3>l1:\n",
        "      self.__is_valid= True\n",
        "    else:\n",
        "      self.__is_valid= False\n",
        "    if \"Triangle\" not in Shape.shapelistt:\n",
        "      Shape.shapelistt.append(\"Triangle\")\n",
        "    Triangle.trianglevectors.append(self)\n",
        "\n",
        "  \n",
        "  def __str__(self):\n",
        "    return f\"Triangles with side vectors\\n{super().__str__()}\"\n",
        "\n",
        "  \n",
        "  def get_angles(self):\n",
        "    return int(self.__angles[0]*100)/100, int(self.__angles[1]*100)/100, int(self.__angles[2]*100)/100\n",
        "  \n",
        "  def get_side_lengths(self):\n",
        "    return int(self.__side_lengths[0]*100)/100, int(self.__side_lengths[1]*100)/100, int(self.__side_lengths[2]*100)/100\n",
        "  \n",
        "  def value(self):\n",
        "    return self.area()\n",
        "  \n",
        "  def area(self):\n",
        "    if self.__is_valid:\n",
        "      return self.__area\n",
        "    print('invalid triangle')\n",
        "    return 0.0\n",
        "  \n",
        "  def perimeter(self):\n",
        "    if self.__is_valid:\n",
        "      return self.__perimeter\n",
        "    print('invalid triangle')\n",
        "    return 0.0\n",
        "  \n",
        "  def get_type_by_angle(self):\n",
        "    if self.__is_valid:\n",
        "      if 90 in self.__angles: type_angle = 'right angle'\n",
        "      elif self.__angles[0] > 90 or self.__angles[1] > 90 or self.__angles[2] > 90:\n",
        "        type_angle = 'obtuse'\n",
        "      else: type_angle = 'acute'\n",
        "      return type_angle\n",
        "    print('invalid triangle')\n",
        "    return 0.0\n",
        "  \n",
        "  def get_type_by_side(self):\n",
        "    if self.__is_valid:\n",
        "      if self.__angles[0] == self.__angles[1] == self.__angles[2]:\n",
        "        type_side = 'equilateral'\n",
        "      elif (self.__angles[0] == self.__angles[1]) or (self.__angles[1] == self.__angles[2]) or (self.__angles[0] == self.__angles[2]): \n",
        "        type_side = 'isosceles'\n",
        "      else: type_side = 'scalene'\n",
        "      return type_side\n",
        "    print('invalid triangle')\n",
        "    return 0.0\n",
        "\n",
        "  @staticmethod\n",
        "  def stats():\n",
        "\n",
        "    print(f\"{len(Triangle.trianglevectors)} triangles created so far: [\")\n",
        "    for i in Triangle.trianglevectors:\n",
        "      print(str(i))\n",
        "    print(\"]\")\n",
        "      "
      ]
    },
    {
      "cell_type": "code",
      "source": [
        "t1 = Triangle(v1,v2,v3)\n",
        "print(t1)\n",
        "print(f'{t1.area():.2f}')\n",
        "print(t1.get_side_lengths())\n",
        "print(t1.get_type_by_side())\n",
        "print(t1.get_angles())\n",
        "print(t1.get_type_by_angle())\n",
        "print(datetime.now())\n"
      ],
      "metadata": {
        "colab": {
          "base_uri": "https://localhost:8080/"
        },
        "id": "45qeLP0ZVNEO",
        "outputId": "08dee262-92a2-4bfc-9a79-6f9007026356"
      },
      "execution_count": 637,
      "outputs": [
        {
          "output_type": "stream",
          "name": "stdout",
          "text": [
            "Triangles with side vectors\n",
            "[(4.0,3.0,-5.0)\n",
            "(3.0,2.0,-6.0)\n",
            "(-7.0,-5.0,11.0)]\n",
            "6.04\n",
            "(7.07, 7.0, 13.96)\n",
            "scalene\n",
            "(7.1, 7.02, 165.87)\n",
            "obtuse\n",
            "2022-09-03 03:10:40.384121\n"
          ]
        }
      ]
    },
    {
      "cell_type": "code",
      "source": [
        "t2 = Triangle(v4+v5,-v5,-v4)\n",
        "print(t2)\n",
        "t3 = Triangle(v2,v4,Vector(-8,-5,12))\n",
        "print(t3.get_side_lengths())\n",
        "print(datetime.now())\n"
      ],
      "metadata": {
        "colab": {
          "base_uri": "https://localhost:8080/"
        },
        "id": "6AO-EbgMVQmL",
        "outputId": "8d3c66d4-913d-4d22-c277-7dd83b29aac8"
      },
      "execution_count": 638,
      "outputs": [
        {
          "output_type": "stream",
          "name": "stdout",
          "text": [
            "Triangles with side vectors\n",
            "[(2.0,2.0,-9.0)\n",
            "(3.0,1.0,3.0)\n",
            "(-5.0,-3.0,6.0)]\n",
            "(7.0, 8.36, 15.26)\n",
            "2022-09-03 03:10:40.397483\n"
          ]
        }
      ]
    },
    {
      "cell_type": "code",
      "source": [
        "ts1 = [t1,t2,t3]\n",
        "print_values(*ts1)\n",
        "ts2 = sorted(ts1,key=value)\n",
        "print_values(*ts2)\n",
        "print(datetime.now())\n"
      ],
      "metadata": {
        "colab": {
          "base_uri": "https://localhost:8080/"
        },
        "id": "0mTfgUwoVSv3",
        "outputId": "e97d93b3-88c6-4705-ae89-00696cd34cdb"
      },
      "execution_count": 639,
      "outputs": [
        {
          "output_type": "stream",
          "name": "stdout",
          "text": [
            "6.04, 18.23, 6.73, \n",
            "6.04, 6.73, 18.23, \n",
            "2022-09-03 03:10:40.413517\n"
          ]
        }
      ]
    },
    {
      "cell_type": "code",
      "source": [
        "class RandomShape(Shape):\n",
        "  def __init__(self, *args):\n",
        "    super().__init__(*args)\n",
        "    self.shapetype= str(len(args))+\"-gon\"\n",
        "    lengthlist = []\n",
        "    for i in args:\n",
        "      lengthlist.append(i.value())\n",
        "    self.__perimeter=0\n",
        "    for l in lengthlist:\n",
        "      self.__perimeter+=l\n",
        "    if str(len(args))+\"-gon\" not in Shape.shapelistt:\n",
        "      Shape.shapelistt.append(str(len(args))+\"-gon\")\n",
        "\n",
        "  def value(self):\n",
        "    return self.__perimeter\n",
        "  \n",
        "  def __str__(self):\n",
        "    return f\"{self.shapetype} with side vectors\\n{super().__str__()}\"\n",
        "\n",
        "    \n",
        "  @classmethod\n",
        "  def print_n_gons(cls, n):\n",
        "    print(f'{n}-gons')\n",
        "\n",
        "  @staticmethod\n",
        "  def stats():\n",
        "    print(f'{len(Shape.shapelistt)} type of shapes created so far: {Shape.shapelistt}')"
      ],
      "metadata": {
        "id": "G31nvJOTWqvQ"
      },
      "execution_count": 640,
      "outputs": []
    },
    {
      "cell_type": "code",
      "source": [
        "r1 = RandomShape(v1,v2,v3,v4)\n",
        "print(r1)\n",
        "r2 = RandomShape(v3,v4-v3,v5,v1,v2,v3)\n",
        "print(r2)\n",
        "print(datetime.now())\n"
      ],
      "metadata": {
        "id": "6YlBVJO9VUJx",
        "colab": {
          "base_uri": "https://localhost:8080/"
        },
        "outputId": "3588ab16-95ea-42f9-c8f5-4c5ac5095d61"
      },
      "execution_count": 641,
      "outputs": [
        {
          "output_type": "stream",
          "name": "stdout",
          "text": [
            "4-gon with side vectors\n",
            "[(4.0,3.0,-5.0)\n",
            "(3.0,2.0,-6.0)\n",
            "(-7.0,-5.0,11.0)\n",
            "(5.0,3.0,-6.0)]\n",
            "6-gon with side vectors\n",
            "[(-7.0,-5.0,11.0)\n",
            "(12.0,8.0,-17.0)\n",
            "(-3.0,-1.0,-3.0)\n",
            "(4.0,3.0,-5.0)\n",
            "(3.0,2.0,-6.0)\n",
            "(-7.0,-5.0,11.0)]\n",
            "2022-09-03 03:10:40.442806\n"
          ]
        }
      ]
    },
    {
      "cell_type": "code",
      "source": [
        "rs1 = [r2,r1]\n",
        "print_values(*rs1)\n",
        "rs2 = sorted(rs1,key=value)\n",
        "print_values(*rs2)\n",
        "print(datetime.now())\n"
      ],
      "metadata": {
        "id": "OUHBR3P_VW64",
        "colab": {
          "base_uri": "https://localhost:8080/"
        },
        "outputId": "e32592c5-b2ad-4410-e4d8-89c9ae607b41"
      },
      "execution_count": 642,
      "outputs": [
        {
          "output_type": "stream",
          "name": "stdout",
          "text": [
            "68.65, 36.40, \n",
            "36.40, 68.65, \n",
            "2022-09-03 03:10:40.460662\n"
          ]
        }
      ]
    },
    {
      "cell_type": "code",
      "source": [
        "shapes = [*vs1[1:4], *ls1, *as1, *ts1, *rs1]\n",
        "print_values(*shapes)\n",
        "shapes = sorted(shapes,key=value)\n",
        "print_values(*shapes)\n",
        "print(datetime.now())\n"
      ],
      "metadata": {
        "id": "X-n_ZsoyVYZ1",
        "colab": {
          "base_uri": "https://localhost:8080/"
        },
        "outputId": "e6db3597-d1e9-4360-d13c-89a7c20780ab"
      },
      "execution_count": 643,
      "outputs": [
        {
          "output_type": "stream",
          "name": "stdout",
          "text": [
            "7.00, 13.96, 8.37, 4.36, 8.37, 5.48, 14.13, 172.90, 90.00, 6.04, 18.23, 6.73, 68.65, 36.40, \n",
            "4.36, 5.48, 6.04, 6.73, 7.00, 8.37, 8.37, 13.96, 14.13, 18.23, 36.40, 68.65, 90.00, 172.90, \n",
            "2022-09-03 03:10:40.475905\n"
          ]
        }
      ]
    },
    {
      "cell_type": "code",
      "source": [
        "Vector.stats()\n",
        "print(datetime.now())\n"
      ],
      "metadata": {
        "id": "X9iNg5RpVdob",
        "colab": {
          "base_uri": "https://localhost:8080/"
        },
        "outputId": "c96c224d-f957-4238-eae1-b21e5c3d4600"
      },
      "execution_count": 644,
      "outputs": [
        {
          "output_type": "stream",
          "name": "stdout",
          "text": [
            "14 vectors created so far: [\n",
            "(4.0,3.0,-5.0)\n",
            "(3.0,2.0,-6.0)\n",
            "(-3.0,-2.0,6.0)\n",
            "(-7.0,-5.0,11.0)\n",
            "(2.0,1.0,0.0)\n",
            "(5.0,3.0,-6.0)\n",
            "(-3.0,-1.0,-3.0)\n",
            "(0.0,0.0,0.0)\n",
            "(-2.0,1.0,5.0)\n",
            "(2.0,2.0,-9.0)\n",
            "(3.0,1.0,3.0)\n",
            "(-5.0,-3.0,6.0)\n",
            "(-8.0,-5.0,12.0)\n",
            "(12.0,8.0,-17.0)\n",
            "]\n",
            "2022-09-03 03:10:40.487110\n"
          ]
        }
      ]
    },
    {
      "cell_type": "code",
      "source": [
        "Shape.stats()\n",
        "print(datetime.now())\n"
      ],
      "metadata": {
        "id": "_QAbInQzVfmy",
        "colab": {
          "base_uri": "https://localhost:8080/"
        },
        "outputId": "196af4f3-d2e6-4f72-8d26-cd01dc7daea6"
      },
      "execution_count": 645,
      "outputs": [
        {
          "output_type": "stream",
          "name": "stdout",
          "text": [
            "5 type of shapes created so far: ['Line', 'Angle', 'Triangle', '4-gon', '6-gon']\n",
            "2022-09-03 03:10:40.505329\n"
          ]
        }
      ]
    },
    {
      "cell_type": "code",
      "source": [
        "Line.stats()\n",
        "print(datetime.now())\n"
      ],
      "metadata": {
        "id": "Dc74ax2wVhQH",
        "colab": {
          "base_uri": "https://localhost:8080/"
        },
        "outputId": "04600c26-9540-4a77-8878-36fb3d198eee"
      },
      "execution_count": 646,
      "outputs": [
        {
          "output_type": "stream",
          "name": "stdout",
          "text": [
            "3 lines created so far: [\n",
            "Lines with side vector:\n",
            "[(-3.0,-1.0,-3.0)]\n",
            "Lines with side vector:\n",
            "[(5.0,3.0,-6.0)]\n",
            "Lines with side vector:\n",
            "[(-2.0,1.0,5.0)]\n",
            "]\n",
            "2022-09-03 03:10:40.520830\n"
          ]
        }
      ]
    },
    {
      "cell_type": "code",
      "source": [
        "Angle.stats()\n",
        "print(datetime.now())\n"
      ],
      "metadata": {
        "id": "x_NYA5uAVj-w",
        "colab": {
          "base_uri": "https://localhost:8080/"
        },
        "outputId": "a4934948-f85a-455c-d6c8-02e319500934"
      },
      "execution_count": 647,
      "outputs": [
        {
          "output_type": "stream",
          "name": "stdout",
          "text": [
            "3 angles created so far: [\n",
            "Angle with side vectors\n",
            "[(4.0,3.0,-5.0)\n",
            "(3.0,2.0,-6.0)]\n",
            "Angle with side vectors\n",
            "[(-7.0,-5.0,11.0)\n",
            "(3.0,2.0,-6.0)]\n",
            "Angle with side vectors\n",
            "[(5.0,3.0,-6.0)\n",
            "(-3.0,-1.0,-3.0)]\n",
            "]\n",
            "2022-09-03 03:10:40.538989\n"
          ]
        }
      ]
    },
    {
      "cell_type": "code",
      "source": [
        "Triangle.stats()\n",
        "print(datetime.now())\n"
      ],
      "metadata": {
        "id": "4a4MRvG5Vmiq",
        "colab": {
          "base_uri": "https://localhost:8080/"
        },
        "outputId": "c01cba64-897b-433a-8ac2-c05cb59289f1"
      },
      "execution_count": 648,
      "outputs": [
        {
          "output_type": "stream",
          "name": "stdout",
          "text": [
            "3 triangles created so far: [\n",
            "Triangles with side vectors\n",
            "[(4.0,3.0,-5.0)\n",
            "(3.0,2.0,-6.0)\n",
            "(-7.0,-5.0,11.0)]\n",
            "Triangles with side vectors\n",
            "[(2.0,2.0,-9.0)\n",
            "(3.0,1.0,3.0)\n",
            "(-5.0,-3.0,6.0)]\n",
            "Triangles with side vectors\n",
            "[(3.0,2.0,-6.0)\n",
            "(5.0,3.0,-6.0)\n",
            "(-8.0,-5.0,12.0)]\n",
            "]\n",
            "2022-09-03 03:10:40.550292\n"
          ]
        }
      ]
    },
    {
      "cell_type": "code",
      "source": [
        "RandomShape.stats()\n",
        "print(datetime.now())\n"
      ],
      "metadata": {
        "id": "kLZi7L6KUzrW",
        "colab": {
          "base_uri": "https://localhost:8080/"
        },
        "outputId": "3b39e830-d008-4071-fbf9-60ba7821d313"
      },
      "execution_count": 649,
      "outputs": [
        {
          "output_type": "stream",
          "name": "stdout",
          "text": [
            "5 type of shapes created so far: ['Line', 'Angle', 'Triangle', '4-gon', '6-gon']\n",
            "2022-09-03 03:10:40.568477\n"
          ]
        }
      ]
    }
  ]
}