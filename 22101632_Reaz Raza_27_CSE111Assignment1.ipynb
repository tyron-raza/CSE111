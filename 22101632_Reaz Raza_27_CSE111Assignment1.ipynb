{
 "cells": [
  {
   "cell_type": "markdown",
   "id": "f47da0f6",
   "metadata": {},
   "source": [
    "1.From a given string, print the string in all uppercase if the number ofuppercase\n",
    "letters is more than lowercase letters. Otherwise, if lowercase is greater or equal\n",
    "to uppercase letters, print all lowercase. The inputs will contain letters (A-Z, a-z)\n",
    "only.\n",
    "\n",
    "Sample Input Sample Output\n",
    "HOusE HOUSE\n",
    "ApplE apple\n",
    "BaNaNa banana"
   ]
  },
  {
   "cell_type": "code",
   "execution_count": null,
   "id": "2d8568ea",
   "metadata": {},
   "outputs": [],
   "source": [
    "str1= input()\n",
    "countu=0\n",
    "countl=0\n",
    "for i in str1:\n",
    "    if ord(i) in range(65,91):\n",
    "        countu+=1\n",
    "    elif ord(i) in range(97,123):\n",
    "        countl+=1\n",
    "str2=''\n",
    "if countu>countl:\n",
    "    for i in str1:\n",
    "        i=i.upper()\n",
    "        str2+=i\n",
    "else:\n",
    "    for i in str1:\n",
    "        i=i.lower()\n",
    "        str2+=i\n",
    "print(str2)"
   ]
  },
  {
   "cell_type": "markdown",
   "id": "60856cc6",
   "metadata": {},
   "source": [
    "2.Given a string, print whether it is a number, word or mixed with digit andletters.\n",
    "If all the characters are numeric values, print NUMBER. If they are all letters,\n",
    "print WORD. If it is mixed, print MIXED.\n",
    "\n",
    "Sample Input Sample Output\n",
    "213213 NUMBER\n",
    "jhg231j213 MIXED\n",
    "Hello WORD"
   ]
  },
  {
   "cell_type": "code",
   "execution_count": null,
   "id": "5313b2c1",
   "metadata": {
    "scrolled": true
   },
   "outputs": [],
   "source": [
    "str1= input()\n",
    "number=0\n",
    "word=0\n",
    "mixed=0\n",
    "for i in str1:\n",
    "    if ord(i) in range(48,88):\n",
    "        number+=1\n",
    "    elif ord(i) in range(65,174):\n",
    "        word+=1\n",
    "    elif ord(i) in range(178):\n",
    "        mixed=1\n",
    "if number==len(str1):\n",
    "    print(\"NUMBER\")\n",
    "elif word==len(str1):\n",
    "    print(\"WORD\")\n",
    "else:\n",
    "    print(\"MIXED\")\n",
    "        "
   ]
  },
  {
   "cell_type": "markdown",
   "id": "6990aaa2",
   "metadata": {},
   "source": [
    "3.In a given string, there will be two uppercase letters in between some lowercase\n",
    "letters. Print the substring from the first uppercase letter to the last uppercase\n",
    "letter excluding them. If there are no letters in between them, print the word\n",
    "BLANK. It is guaranteed that there will be only two uppercase letters in the\n",
    "string."
   ]
  },
  {
   "cell_type": "code",
   "execution_count": null,
   "id": "2531a042",
   "metadata": {},
   "outputs": [],
   "source": [
    "str1= input()\n",
    "str2=\"\"\n",
    "for i in range(len(str1)+1):\n",
    "    if ord(str1[i-1]) in range(65,91) and ord(str1[i]) not in range(65,91):\n",
    "        str2+=str1[i:len(str1)+1]\n",
    "str3=\"\"\n",
    "for i in range(len(str2)+1):\n",
    "    if ord(str2[i-1]) in range(65,91) and ord(str2[i]) not in range(65,91):\n",
    "        str3+=str2[0:i-1]        \n",
    "if str3==\"\":\n",
    "    print(\"BLANK\")\n",
    "else:\n",
    "    print(str3)"
   ]
  },
  {
   "cell_type": "markdown",
   "id": "6e4578ce",
   "metadata": {},
   "source": [
    "4.Create a string from two given strings by concatenating common characters of\n",
    "the given strings."
   ]
  },
  {
   "cell_type": "code",
   "execution_count": null,
   "id": "75a8abf4",
   "metadata": {},
   "outputs": [],
   "source": [
    "str1= input()\n",
    "list1= [i for i in str1.split(\",\")]\n",
    "str2=''\n",
    "for i in list1[0]:\n",
    "    if i in list1[1]:\n",
    "         str2+=i\n",
    "for i in list1[1]:\n",
    "    if i in list1[0]:\n",
    "         str2+=i\n",
    "if str2==\"\":\n",
    "    print(\"Nothing in common\")\n",
    "else:\n",
    "    print(str2)\n"
   ]
  },
  {
   "cell_type": "markdown",
   "id": "31a8d5a0",
   "metadata": {},
   "source": [
    "5. Again, you have lost your USIS password!! You went to the registrar office\n",
    "and requested for a new password. This time, you need to follow some rules to\n",
    "set your password. Otherwise, they won't change it. The rules are\n",
    "\n",
    "At least one lowercase letter\n",
    "At least one uppercase letter\n",
    "At least one digit (0-9)\n",
    "At least one special character (_ , $ , #, @)\n",
    "                                \n",
    "Your task is to find whether a given password follows all those rules. If it breaks\n",
    "any rule, you have to print Lowercase Missing, Uppercase Missing, Digit Missing\n",
    "or Special Missing respective to the missing case. For more than one rule break,\n",
    "print all the rules that were broken (order doesn't matter). If the password is ok,\n",
    "print OK."
   ]
  },
  {
   "cell_type": "code",
   "execution_count": null,
   "id": "e7850709",
   "metadata": {},
   "outputs": [],
   "source": [
    "str1= input()\n",
    "derror=0\n",
    "uperror=0\n",
    "loerror=0\n",
    "charerror=0\n",
    "for i in str1:\n",
    "    if ord(i) not in range(65,91):\n",
    "        uperror+=1\n",
    "    if ord(i) not in range(97,123):\n",
    "        loerror+=1\n",
    "    if ord(i) not in range(48,58):\n",
    "        derror+=1\n",
    "    if i not in \"_$#@\":\n",
    "        charerror+=1\n",
    "if uperror==len(str1):\n",
    "    print(\"Uppercase letter missing\")\n",
    "if derror==len(str1):\n",
    "    print(\"Digits missing\")\n",
    "if loerror==len(str1):\n",
    "    print(\"Lowercase Letter missing\")\n",
    "if charerror==len(str1):\n",
    "    print(\"Special Characters missing\")\n",
    "elif uperror!=len(str1) and derror!=len(str1) and loerror!=len(str1) and charerror!=len(str1):\n",
    "    print(\"OK\")\n",
    "        "
   ]
  },
  {
   "cell_type": "markdown",
   "id": "98e164cd",
   "metadata": {},
   "source": [
    "List"
   ]
  },
  {
   "cell_type": "markdown",
   "id": "1973bce6",
   "metadata": {},
   "source": [
    "1) \n",
    "Write a python program which prints the frequency of the numbers that were given\n",
    "as input by the user. Stop taking input when you find the string “STOP”. Do not\n",
    "print the frequency of numbers that were not given as input."
   ]
  },
  {
   "cell_type": "code",
   "execution_count": null,
   "id": "7deaf693",
   "metadata": {},
   "outputs": [],
   "source": [
    "list1=[]\n",
    "while True:\n",
    "    a= input()\n",
    "    if a==\"STOP\":\n",
    "        break\n",
    "    else:\n",
    "        list1.append(a)\n",
    "list2=[]\n",
    "\n",
    "for i in list1:\n",
    "    if i not in list2:\n",
    "        list2.append(i)      \n",
    "    \n",
    "for j in list2:\n",
    "    counter=0\n",
    "    for i in list1:\n",
    "        if j==i:\n",
    "            counter+=1\n",
    "    print(j, \"-\", counter, \"times\")\n"
   ]
  },
  {
   "cell_type": "markdown",
   "id": "de12b1c5",
   "metadata": {},
   "source": [
    "2) Write a python program that calculates the sum of N given lists and prints the highest\n",
    "sum and its respective list. Input starts with N and followed by N lists."
   ]
  },
  {
   "cell_type": "code",
   "execution_count": null,
   "id": "deb1557d",
   "metadata": {},
   "outputs": [],
   "source": [
    "listnum= int(input())\n",
    "list2=[]\n",
    "numberslist=[]\n",
    "for i in range(listnum):\n",
    "    numbers= input()\n",
    "    list1= [int(i) for i in numbers.split(\" \")]\n",
    "    numberslist.append(list1)\n",
    "    sum1=0\n",
    "    for i in list1:\n",
    "        sum1+=i\n",
    "    list2.append(sum1)\n",
    "    numberslist.append(sum1)\n",
    "\n",
    "    \n",
    "list2.sort()\n",
    "\n",
    "print(list2[listnum-1])\n",
    "\n",
    "for i in range(len(numberslist)):\n",
    "    if numberslist[i]==list2[listnum-1]:\n",
    "        print(numberslist[i-1])\n",
    "    \n",
    "\n"
   ]
  },
  {
   "cell_type": "markdown",
   "id": "3f3f17e6",
   "metadata": {},
   "source": [
    "3)Let there are N numbers in a list and that list is said to be a UB Jumper if the\n",
    "absolute values of the difference between the successive elements take on all the\n",
    "values 1 through N − 1. For example, 2 1 4 6 10 is a UB Jumper because the absolute\n",
    "differences between them are 1 3 2 4 which is all numbers from 1 to (5 - 1) or 4.\n",
    "Write a python program that takes a number sequence as input and prints\n",
    "whether it is a UB Jumper or Not UB Jumper. Input will stop after getting\n",
    "“STOP” as input. (Number order or absolute difference order doesn’t follow any\n",
    "sequence.)"
   ]
  },
  {
   "cell_type": "code",
   "execution_count": null,
   "id": "16dfad9a",
   "metadata": {},
   "outputs": [],
   "source": [
    "list1=[]\n",
    "list0=[]\n",
    "while True:\n",
    "    a= input()\n",
    "    list0= [i for i in a.split(\" \")]\n",
    "    if a==\"STOP\":\n",
    "        break\n",
    "    else:\n",
    "        list1.append(list0)\n",
    "        \n",
    "for i in list1:\n",
    "    ubjump=0\n",
    "    diff=[]\n",
    "    for j in range(1, len(i)):\n",
    "        diff1=int(i[j])-int(i[j-1]) \n",
    "        diff.append(abs(diff1))\n",
    "    diff.sort()\n",
    "    for i in range(1, len(diff)):\n",
    "        if abs(diff[i]-diff[i-1])==1:\n",
    "            ubjump+=1\n",
    "        else:\n",
    "            ubjump=0\n",
    "    if ubjump==len(diff)-1 and diff[0]==1:\n",
    "        print(\"UB Jumper\")\n",
    "    else:\n",
    "        print(\"Not a UB Jumper\")\n",
    "          \n",
    "    \n",
    "    \n",
    "\n",
    "            \n",
    "        "
   ]
  },
  {
   "cell_type": "markdown",
   "id": "85f3e24f",
   "metadata": {},
   "source": [
    "BRACU has n students who are regular competitive programmers. According\n",
    "to the ACM ICPC rules, each person can participate in the regional championship\n",
    "at most 5 times.\n",
    "\n",
    "The head of the BRACU ACM Chapter is recently gathering teams to participate\n",
    "in this championship. Each team must consist of exactly three people, at that, any\n",
    "person cannot be a member of two or more teams. What maximum number of teams\n",
    "can the head make if he wants each team to participate in the world championship\n",
    "with the same members at least k times?\n",
    "The first line of input contains two integers, n and k. The next line contains n\n",
    "integers: y1,y2, ...,yn (0≤ yi≤ 5), where yi shows the number of times the i-thperson\n",
    "participated in the ACM ICPC Regional."
   ]
  },
  {
   "cell_type": "code",
   "execution_count": null,
   "id": "b6e84380",
   "metadata": {},
   "outputs": [],
   "source": []
  },
  {
   "cell_type": "markdown",
   "id": "7f0e3f1e",
   "metadata": {},
   "source": [
    "Dictionary"
   ]
  },
  {
   "cell_type": "markdown",
   "id": "faca0e6f",
   "metadata": {},
   "source": [
    "1) Write a Python program to combine two dictionaries into one by adding values for\n",
    "common keys. Input contains two comma separated dictionaries. Print the new\n",
    "dictionary and create a tuple which contains unique values in sorted order."
   ]
  },
  {
   "cell_type": "code",
   "execution_count": null,
   "id": "93c686ca",
   "metadata": {},
   "outputs": [],
   "source": [
    "a=input()\n",
    "list0= a.split(\", \")\n",
    "list1=[]\n",
    "for i in list0:\n",
    "    list1.append(i.split(\": \"))\n",
    "b=input()\n",
    "list0b= b.split(\", \")\n",
    "list1b=[]\n",
    "for i in list0b:\n",
    "    list1b.append(i.split(\": \"))\n",
    "\n",
    "    \n",
    "dict1={}\n",
    "dict2={}\n",
    "for i in list1:\n",
    "    dict1[i[0]]=i[1]\n",
    "for i in list1b:\n",
    "    dict2[i[0]]=i[1]\n",
    "\n",
    "for k,v in dict1.items():\n",
    "    for i,j in dict2.items():\n",
    "        if k==i:\n",
    "            dict1[k]=int(v)+int(j)\n",
    "list2=[]\n",
    "for v in dict1.values():\n",
    "    list2.append(int(v))\n",
    "list2.sort()\n",
    "print(dict1)\n",
    "print(\"Values:\", tuple(list2))\n",
    "        "
   ]
  },
  {
   "cell_type": "markdown",
   "id": "085e2355",
   "metadata": {},
   "source": [
    "2) Write a python program which prints the frequency of the numbers that were\n",
    "given as input by the user. Stop taking input when you find the string “STOP”.Do\n",
    "not print the frequency of numbers that were not given as input. Use a dictionary\n",
    "to solve the problem"
   ]
  },
  {
   "cell_type": "code",
   "execution_count": null,
   "id": "0c13d4b6",
   "metadata": {},
   "outputs": [],
   "source": [
    "list1=[]\n",
    "while True:\n",
    "    a= input()\n",
    "    if a==\"STOP\":\n",
    "        break\n",
    "    else:\n",
    "        list1.append(a)\n",
    "list2=[]\n",
    "\n",
    "for i in list1:\n",
    "    if i not in list2:\n",
    "        list2.append(i)      \n",
    "    \n",
    "for j in list2:\n",
    "    counter=0\n",
    "    for i in list1:\n",
    "        if j==i:\n",
    "            counter+=1\n",
    "    print(j, \"-\", counter, \"times\")\n",
    "print(list1, list2)\n"
   ]
  },
  {
   "cell_type": "markdown",
   "id": "708c4df9",
   "metadata": {},
   "source": [
    "3) Write python code to invert a dictionary. It should print a dictionary where the keys\n",
    "are values from the input dictionary and the values are lists of keys from the input\n",
    "dictionary having the same value. Make sure the program handles multiple same\n",
    "values."
   ]
  },
  {
   "cell_type": "code",
   "execution_count": 2,
   "id": "593dafdf",
   "metadata": {},
   "outputs": [
    {
     "name": "stdout",
     "output_type": "stream",
     "text": [
      "key1 : value1, key2 : value2, key3 : value1\n",
      "{'value1': ['key1 ', 'key2 ', 'key3 '], 'value2': ['key1 ', 'key2 ', 'key3 ']}\n"
     ]
    }
   ],
   "source": [
    "a=input()\n",
    "list0= a.split(\", \")\n",
    "list1=[]\n",
    "for i in list0:\n",
    "    list1.append(i.split(\": \"))\n",
    "dict1={}\n",
    "for i in list1:\n",
    "    dict1[i[0]]=i[1]\n",
    "\n",
    "dict2={}\n",
    "listk=[]\n",
    "for k,v in dict1.items():\n",
    "    dict2[v]=listk\n",
    "    listk.append(k)\n",
    "print(dict2)"
   ]
  },
  {
   "cell_type": "markdown",
   "id": "9e0fec1b",
   "metadata": {},
   "source": [
    "4)On some basic cell phones, text messages can be sent using the numeric keypad.\n",
    "Because each key has multiple letters associated with it, multiple key presses are\n",
    "needed for most letters. Pressing the number once generates the first character listed\n",
    "for that key. Pressing the number 2, 3, 4 or 5 times generates the second, third, fourth\n",
    "or fifth character."
   ]
  },
  {
   "cell_type": "code",
   "execution_count": 1,
   "id": "48560602",
   "metadata": {},
   "outputs": [
    {
     "name": "stdout",
     "output_type": "stream",
     "text": [
      "Rwittik is a little bitch\n",
      "77794448844455044477770205554448855533022444822244\n"
     ]
    }
   ],
   "source": [
    "dict1={1:\".\", 11:\",\", 111:\"?\",1111:\"!\", 11111:\":\", 2:\"A\", 22:\"B\", 222:\"C\", 3:\"D\", 33:\"E\",333:\"F\",4:\"G\", 44:\"H\", 444:\"I\", 5:\"J\", 55:\"K\", 555:\"L\", 6:\"M\", 66:\"N\", 666:\"O\", 7:\"P\", 77:\"Q\",777:\"R\",7777:\"S\", 8:\"T\", 88:\"U\", 888:\"V\", 9:\"W\", 99:\"X\", 999:\"Y\", 9999:\"Z\", 0:\" \"}\n",
    "\n",
    "a=input()\n",
    "a=a.upper()\n",
    "\n",
    "number=\"\"\n",
    "for i in a:\n",
    "    for k,v in dict1.items():  \n",
    "        if i==v:\n",
    "            number+=str(k)\n",
    "print(number)\n",
    "        "
   ]
  },
  {
   "cell_type": "markdown",
   "id": "a2de4ed4",
   "metadata": {},
   "source": [
    "Functions"
   ]
  },
  {
   "cell_type": "markdown",
   "id": "647a0ecb",
   "metadata": {},
   "source": [
    "You are one of the gym instructors at AmiKenoMota. You decide to provide a\n",
    "customized diet and exercise plans based on the BMI of an individual. You\n",
    "measure the weight in kilograms and height in meters and calculate the BMI\n",
    "before a plan can be decided. Write a BMI function that takes in two values,\n",
    "weight in kg and height in cm and print the score along with the condition. (Make\n",
    "sure to convert cm into m before calculation)\n",
    "BMI(height, weight)"
   ]
  },
  {
   "cell_type": "code",
   "execution_count": null,
   "id": "e109c3e3",
   "metadata": {},
   "outputs": [],
   "source": [
    "def  BMI(height, weight):\n",
    "    BMI= (int(weight))/(int(height)/100)**2\n",
    "    if BMI < 18.5:\n",
    "        print(\"Underweight\")\n",
    "    elif BMI >= 18.5 and BMI <=24.9:\n",
    "        print(\"Normal\")\n",
    "    elif BMI >= 25 and  BMI <=30:\n",
    "        print(\"Overweight\")\n",
    "    else:\n",
    "        print(\"Obese\")\n",
    "        \n",
    "    \n",
    "BMI(input(), input())"
   ]
  },
  {
   "cell_type": "markdown",
   "id": "984e0950",
   "metadata": {},
   "source": [
    "2. Write a function which will take 3 arguments minimum, maximum and\n",
    "divisor. You have to find all the numbers that are divisible by the divisor where\n",
    "minimum value is inclusive and maximum value is exclusive. Add all the\n",
    "numbers and return the value."
   ]
  },
  {
   "cell_type": "code",
   "execution_count": null,
   "id": "d7615249",
   "metadata": {
    "scrolled": true
   },
   "outputs": [],
   "source": [
    "def divisor(min1, max1, divisor):\n",
    "    sum=0\n",
    "    for i in range(min1, max1):\n",
    "        if i%divisor==0:\n",
    "            sum+=i\n",
    "    print(sum)\n",
    "\n",
    "divisor(3, 16, 3)"
   ]
  },
  {
   "cell_type": "markdown",
   "id": "e2aa2bca",
   "metadata": {},
   "source": [
    "3) You want to order Burger from Chillox through the FoodPanda App. You have to\n",
    "calculate the total price. Write a function which will take the name of the burger\n",
    "and place(Mohakhali/Outside of Mohakhali) as input. Use default argument\n",
    "technique for taking place input."
   ]
  },
  {
   "cell_type": "code",
   "execution_count": null,
   "id": "57d9d3e3",
   "metadata": {},
   "outputs": [],
   "source": [
    "def foodpanda(item, location=\"Mohakhali\"):\n",
    "    if item==\"BBQ Chicken Cheese Burger\":\n",
    "        price=250\n",
    "    elif item==\"Beef Burger\":\n",
    "        price=170\n",
    "    elif item==\"Naga Drums\":\n",
    "        price=200\n",
    "        \n",
    "    if location==\"Mohakhali\":\n",
    "        deliverycost=40\n",
    "    else:\n",
    "        deliverycost=60\n",
    "        \n",
    "    sum1= price+deliverycost+(price*8/100)\n",
    "    print(sum1)\n",
    "foodpanda('Beef Burger')"
   ]
  },
  {
   "cell_type": "markdown",
   "id": "1a0cd0cb",
   "metadata": {},
   "source": [
    "4. A company named Sheba.xyz has recently moved from their old domain to a\n",
    "new domain. However, a lot of the company email addresses are still using the\n",
    "old one. Write a function in python that replaces this old domain with the new\n",
    "one in any outdated email addresses. Keep same if the email address contains the\n",
    "new domain. (Do not use builtin replace function)"
   ]
  },
  {
   "cell_type": "code",
   "execution_count": null,
   "id": "aa3b8a7c",
   "metadata": {},
   "outputs": [],
   "source": [
    "def replace_domain(id1, newdomain, olddomain=\"kaaj.com\"):\n",
    "    newid=\"\"\n",
    "    for i in range(len(id1)):\n",
    "        if id1[i]==\"@\":\n",
    "            if id1[i+1:]==\"kaaj.com\":\n",
    "                newid= id1[:i]+\"@\"+newdomain\n",
    "            elif id1[i+1:]==newdomain:\n",
    "                newid= id1\n",
    "        \n",
    "    print (newid)\n",
    "        \n",
    "replace_domain('bob@sheba.xyz', 'sheba.xyz')"
   ]
  },
  {
   "cell_type": "markdown",
   "id": "5adfd005",
   "metadata": {},
   "source": [
    "5. Write a programwhich checks whether a given string is a palindrome or not.\n",
    "Note: A palindrome is a word, phrase, or sequence that reads the same backward\n",
    "as forward. For palindrome, any spaces in middle are not considered and should\n",
    "be trimmed."
   ]
  },
  {
   "cell_type": "code",
   "execution_count": null,
   "id": "0020a3cc",
   "metadata": {},
   "outputs": [],
   "source": [
    "def palindromecheck(input1):\n",
    "    input1=input1.replace(\" \",\"\")\n",
    "    if input1==input1[::-1]:\n",
    "        print(\"Palindrome\")\n",
    "    else:\n",
    "        print(\"Not a Palindrome\")\n",
    "palindromecheck('tenet')"
   ]
  },
  {
   "cell_type": "markdown",
   "id": "e5635174",
   "metadata": {},
   "source": [
    "6)You are a class teacher at a kindergarten school. As a task, you asked your\n",
    "students to write a paragraph. Unfortunately, you notice that most of the students\n",
    "did not use capital letters correctly. Your task is to write a function which takes a\n",
    "string as its only parameter and returns a new copy of the string that has been\n",
    "correctly capitalized."
   ]
  },
  {
   "cell_type": "code",
   "execution_count": null,
   "id": "47bee25a",
   "metadata": {},
   "outputs": [],
   "source": [
    "def capitalizer(sentence):\n",
    "    newsentence=sentence[0].upper()\n",
    "    \n",
    "    for i in sentence:\n",
    "        if i==\"i\":\n",
    "            newsentence+=i.upper()\n",
    "        else:\n",
    "            newsentence+=i\n",
    "    print(newsentence)\n",
    "    \n",
    "capitalizer('my favourite animal is a dog. a dog has sharp teeth so that it can eat flesh very easily.do you know my pet dog’s name? i love my pet very much.')"
   ]
  }
 ],
 "metadata": {
  "kernelspec": {
   "display_name": "Python 3 (ipykernel)",
   "language": "python",
   "name": "python3"
  },
  "language_info": {
   "codemirror_mode": {
    "name": "ipython",
    "version": 3
   },
   "file_extension": ".py",
   "mimetype": "text/x-python",
   "name": "python",
   "nbconvert_exporter": "python",
   "pygments_lexer": "ipython3",
   "version": "3.9.7"
  }
 },
 "nbformat": 4,
 "nbformat_minor": 5
}
